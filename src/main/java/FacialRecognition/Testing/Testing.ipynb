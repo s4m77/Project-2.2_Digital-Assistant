{
 "cells": [
  {
   "cell_type": "code",
   "execution_count": null,
   "metadata": {},
   "outputs": [],
   "source": [
    "import cv2\n",
    "import numpy as np\n",
    "import os\n",
    "from sklearn.decomposition import PCA\n",
    "from sklearn.neighbors import KNeighborsClassifier\n",
    "from skimage.feature import local_binary_pattern\n",
    "from sklearn.model_selection import train_test_split\n",
    "import matplotlib.pyplot as plt\n"
   ]
  },
  {
   "cell_type": "code",
   "execution_count": 17,
   "metadata": {},
   "outputs": [],
   "source": [
    "##load haarcascade_frontalface_default.xml\n",
    "face_cascade = cv2.CascadeClassifier('C:\\\\Users\\\\Dell\\\\Project-2.2_Digital-Assistant\\\\src\\\\main\\\\java\\\\FacialRecognision\\\\haarcascade_frontalface_default.xml')\n",
    "if(face_cascade.empty() or face_cascade is None):\n",
    "    print(\"cascade not found\")\n",
    "    exit(1)"
   ]
  },
  {
   "cell_type": "code",
   "execution_count": 10,
   "metadata": {},
   "outputs": [],
   "source": [
    "\n",
    "\n",
    "\n",
    "##change for correct path\n",
    "path=\"C:\\\\Users\\\\Dell\\\\Project-2.2_Digital-Assistant\\\\src\\\\main\\\\resources\\\\Facedataset\\\\Humans\"\n",
    "images=[]\n",
    "\n",
    "for file in os.listdir(path):\n",
    "    img=cv2.imread(os.path.join(path,file))\n",
    "    images.append(img)\n"
   ]
  },
  {
   "cell_type": "code",
   "execution_count": 21,
   "metadata": {},
   "outputs": [],
   "source": [
    "##find 200 faces the classifier detects\n",
    "\n",
    "faces=[]\n",
    "indexes=[]\n",
    "index=0\n",
    "for img in images:\n",
    "    \n",
    "    gray=cv2.cvtColor(img,cv2.COLOR_BGR2GRAY)\n",
    "    \n",
    "    face=face_cascade.detectMultiScale(gray,1.1,4)\n",
    "    if(len(face)>0):\n",
    "        faces.append(img)\n",
    "        indexes.append(index)\n",
    "    if len(faces)>=200:\n",
    "        break\n",
    "    if len(faces)%10==0:\n",
    "        print(len(faces))\n",
    "    index+=1\n"
   ]
  },
  {
   "cell_type": "code",
   "execution_count": 25,
   "metadata": {},
   "outputs": [],
   "source": [
    "##define noise methods all methods assume grayscale images\n",
    "\n",
    "def scale_gaussian_noise(image, scaling_factor):\n",
    "   \n",
    "    original_sigma = 1.0  # Original standard deviation\n",
    "    scaled_sigma = original_sigma * (scaling_factor / 100)\n",
    "    \n",
    "    noise = np.random.normal(0, original_sigma, image.shape)\n",
    "    \n",
    "    scaled_noise = noise * scaled_sigma\n",
    "    \n",
    "    noisy_image = image + scaled_noise\n",
    "    \n",
    "\n",
    "    noisy_image = np.clip(noisy_image, 0, 255)\n",
    "\n",
    "    noisy_image = noisy_image.astype(np.uint8)\n",
    "    \n",
    "    return noisy_image\n",
    "\n",
    "\n",
    "def salt_pepper_noise(image,percentage):\n",
    "    newImage=np.copy(image)\n",
    "    row,col = image.shape\n",
    "    amountofpixels = percentage*row*col\n",
    "    for i in range(int(amountofpixels)):\n",
    "        x=np.random.randint(0,row-1)\n",
    "        y=np.random.randint(0,col-1)\n",
    "        random = np.random.randint(0,2)\n",
    "        if random == 0:\n",
    "            newImage[x][y] = 0\n",
    "        else:\n",
    "            newImage[x][y] = 255\n",
    "    return newImage\n",
    "\n",
    "def scale_poisson_noise(image, scaling_factor):\n",
    "\n",
    "    original_lambda = 10.0  \n",
    "    scaled_lambda = original_lambda * (scaling_factor / 100)\n",
    "    \n",
    "    noise = np.random.poisson(scaled_lambda, image.shape).astype(np.float32)\n",
    "    \n",
    "    # Add the noise to the image\n",
    "    noisy_image = image + noise\n",
    "    \n",
    "    # Clip the pixel values to the valid range of [0, 255]\n",
    "    noisy_image = np.clip(noisy_image, 0, 255)\n",
    "    \n",
    "    # Convert the pixel values back to integers\n",
    "    noisy_image = noisy_image.astype(np.uint8)\n",
    "    \n",
    "    return noisy_image\n"
   ]
  },
  {
   "cell_type": "code",
   "execution_count": 27,
   "metadata": {},
   "outputs": [
    {
     "name": "stdout",
     "output_type": "stream",
     "text": [
      "current noise percentage: 0\n",
      "time to calculate 0% noise: 552.3452515602112 expected time: 5523.452515602112 seconds\n",
      "current noise percentage: 10\n",
      "current noise percentage: 20\n",
      "current noise percentage: 30\n"
     ]
    },
    {
     "ename": "KeyboardInterrupt",
     "evalue": "",
     "output_type": "error",
     "traceback": [
      "\u001b[1;31m---------------------------------------------------------------------------\u001b[0m",
      "\u001b[1;31mKeyboardInterrupt\u001b[0m                         Traceback (most recent call last)",
      "\u001b[1;32mc:\\Users\\Dell\\Project-2.2_Digital-Assistant\\src\\main\\java\\FacialRecognision\\Testing\\Testing.ipynb Cell 6\u001b[0m in \u001b[0;36m1\n\u001b[0;32m     <a href='vscode-notebook-cell:/c%3A/Users/Dell/Project-2.2_Digital-Assistant/src/main/java/FacialRecognision/Testing/Testing.ipynb#W5sZmlsZQ%3D%3D?line=12'>13</a>\u001b[0m img\u001b[39m=\u001b[39mcv2\u001b[39m.\u001b[39mcvtColor(img,cv2\u001b[39m.\u001b[39mCOLOR_BGR2GRAY)\n\u001b[0;32m     <a href='vscode-notebook-cell:/c%3A/Users/Dell/Project-2.2_Digital-Assistant/src/main/java/FacialRecognision/Testing/Testing.ipynb#W5sZmlsZQ%3D%3D?line=13'>14</a>\u001b[0m gaussian\u001b[39m=\u001b[39mscale_gaussian_noise(img,i)\n\u001b[1;32m---> <a href='vscode-notebook-cell:/c%3A/Users/Dell/Project-2.2_Digital-Assistant/src/main/java/FacialRecognision/Testing/Testing.ipynb#W5sZmlsZQ%3D%3D?line=14'>15</a>\u001b[0m saltpepper\u001b[39m=\u001b[39msalt_pepper_noise(img,i\u001b[39m/\u001b[39;49m\u001b[39m100\u001b[39;49m)\n\u001b[0;32m     <a href='vscode-notebook-cell:/c%3A/Users/Dell/Project-2.2_Digital-Assistant/src/main/java/FacialRecognision/Testing/Testing.ipynb#W5sZmlsZQ%3D%3D?line=15'>16</a>\u001b[0m poisson\u001b[39m=\u001b[39mscale_poisson_noise(img,i)\n\u001b[0;32m     <a href='vscode-notebook-cell:/c%3A/Users/Dell/Project-2.2_Digital-Assistant/src/main/java/FacialRecognision/Testing/Testing.ipynb#W5sZmlsZQ%3D%3D?line=16'>17</a>\u001b[0m detected\u001b[39m=\u001b[39mface_cascade\u001b[39m.\u001b[39mdetectMultiScale(gaussian,\u001b[39m1.1\u001b[39m,\u001b[39m4\u001b[39m)\n",
      "\u001b[1;32mc:\\Users\\Dell\\Project-2.2_Digital-Assistant\\src\\main\\java\\FacialRecognision\\Testing\\Testing.ipynb Cell 6\u001b[0m in \u001b[0;36m2\n\u001b[0;32m     <a href='vscode-notebook-cell:/c%3A/Users/Dell/Project-2.2_Digital-Assistant/src/main/java/FacialRecognision/Testing/Testing.ipynb#W5sZmlsZQ%3D%3D?line=26'>27</a>\u001b[0m x\u001b[39m=\u001b[39mnp\u001b[39m.\u001b[39mrandom\u001b[39m.\u001b[39mrandint(\u001b[39m0\u001b[39m,row\u001b[39m-\u001b[39m\u001b[39m1\u001b[39m)\n\u001b[0;32m     <a href='vscode-notebook-cell:/c%3A/Users/Dell/Project-2.2_Digital-Assistant/src/main/java/FacialRecognision/Testing/Testing.ipynb#W5sZmlsZQ%3D%3D?line=27'>28</a>\u001b[0m y\u001b[39m=\u001b[39mnp\u001b[39m.\u001b[39mrandom\u001b[39m.\u001b[39mrandint(\u001b[39m0\u001b[39m,col\u001b[39m-\u001b[39m\u001b[39m1\u001b[39m)\n\u001b[1;32m---> <a href='vscode-notebook-cell:/c%3A/Users/Dell/Project-2.2_Digital-Assistant/src/main/java/FacialRecognision/Testing/Testing.ipynb#W5sZmlsZQ%3D%3D?line=28'>29</a>\u001b[0m random \u001b[39m=\u001b[39m np\u001b[39m.\u001b[39;49mrandom\u001b[39m.\u001b[39;49mrandint(\u001b[39m0\u001b[39;49m,\u001b[39m2\u001b[39;49m)\n\u001b[0;32m     <a href='vscode-notebook-cell:/c%3A/Users/Dell/Project-2.2_Digital-Assistant/src/main/java/FacialRecognision/Testing/Testing.ipynb#W5sZmlsZQ%3D%3D?line=29'>30</a>\u001b[0m \u001b[39mif\u001b[39;00m random \u001b[39m==\u001b[39m \u001b[39m0\u001b[39m:\n\u001b[0;32m     <a href='vscode-notebook-cell:/c%3A/Users/Dell/Project-2.2_Digital-Assistant/src/main/java/FacialRecognision/Testing/Testing.ipynb#W5sZmlsZQ%3D%3D?line=30'>31</a>\u001b[0m     newImage[x][y] \u001b[39m=\u001b[39m \u001b[39m0\u001b[39m\n",
      "\u001b[1;31mKeyboardInterrupt\u001b[0m: "
     ]
    }
   ],
   "source": [
    "##now we have 200 faces we can add noise to them and test the classifier\n",
    "import time\n",
    "start=time.time()\n",
    "accuracyGaussian=[]\n",
    "accuracySaltPepper=[]\n",
    "accuracyPoisson=[]\n",
    "for i in range(0,100,10):\n",
    "    print(\"current noise percentage: \"+str(i))\n",
    "    accuracyGaussiantemp=0\n",
    "    accuracySaltPeppertemp=0\n",
    "    accuracyPoissontemp=0\n",
    "    for img in faces:\n",
    "        img=cv2.cvtColor(img,cv2.COLOR_BGR2GRAY)\n",
    "        gaussian=scale_gaussian_noise(img,i)\n",
    "        saltpepper=salt_pepper_noise(img,i/100)\n",
    "        poisson=scale_poisson_noise(img,i)\n",
    "        detected=face_cascade.detectMultiScale(gaussian,1.1,4)\n",
    "        if(len(detected)>0):\n",
    "            accuracyGaussiantemp+=1\n",
    "        detected=face_cascade.detectMultiScale(saltpepper,1.1,4)\n",
    "        if(len(detected)>0):\n",
    "            accuracySaltPeppertemp+=1\n",
    "        detected=face_cascade.detectMultiScale(poisson,1.1,4)\n",
    "        if(len(detected)>0):\n",
    "            accuracyPoissontemp+=1\n",
    "    accuracyGaussian.append([i,accuracyGaussiantemp/len(faces)])\n",
    "    accuracySaltPepper.append([i,accuracySaltPeppertemp/len(faces)])\n",
    "    accuracyPoisson.append([i,accuracyPoissontemp/len(faces)])\n",
    "    if i==0:\n",
    "        print(\"time to calculate 0% noise: \"+str(time.time()-start)+\" expected time: \"+str((time.time()-start)*10)+\" seconds\")\n",
    "##plot the results\n",
    "plt.plot(*zip(*accuracyGaussian),label=\"Gaussian\")\n",
    "plt.plot(*zip(*accuracySaltPepper),label=\"Salt and Pepper\")\n",
    "plt.plot(*zip(*accuracyPoisson),label=\"Poisson\")\n",
    "plt.legend()\n",
    "plt.xlabel(\"Noise Percentage\")\n",
    "plt.ylabel(\"Accuracy\")\n",
    "plt.title(\"Accuracy of Face Detection with Noise\")\n",
    "plt.show()\n",
    "\n",
    "\n",
    "\n",
    "\n"
   ]
  },
  {
   "cell_type": "code",
   "execution_count": null,
   "metadata": {},
   "outputs": [],
   "source": []
  }
 ],
 "metadata": {
  "kernelspec": {
   "display_name": "Python 3",
   "language": "python",
   "name": "python3"
  },
  "language_info": {
   "codemirror_mode": {
    "name": "ipython",
    "version": 3
   },
   "file_extension": ".py",
   "mimetype": "text/x-python",
   "name": "python",
   "nbconvert_exporter": "python",
   "pygments_lexer": "ipython3",
   "version": "3.10.7"
  },
  "orig_nbformat": 4
 },
 "nbformat": 4,
 "nbformat_minor": 2
}
